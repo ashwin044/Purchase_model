{
 "cells": [
  {
   "cell_type": "code",
   "execution_count": 27,
   "metadata": {},
   "outputs": [],
   "source": [
    "import pandas as pd\n",
    "import numpy as np \n",
    "import seaborn as sns\n",
    "import matplotlib.pyplot as plt\n",
    "from sklearn.impute import SimpleImputer\n",
    "from sklearn.pipeline import make_pipeline,Pipeline\n",
    "from sklearn.compose import make_column_selector,make_column_transformer,ColumnTransformer\n",
    "from sklearn.preprocessing import OneHotEncoder,OrdinalEncoder,StandardScaler\n",
    "from sklearn.model_selection import train_test_split,cross_val_score,RandomizedSearchCV\n",
    "from sklearn.feature_selection import mutual_info_classif,SelectKBest,chi2,RFE\n",
    "from sklearn.ensemble import RandomForestClassifier,HistGradientBoostingClassifier\n",
    "from sklearn.linear_model import LogisticRegression\n",
    "from sklearn.tree import DecisionTreeClassifier\n",
    "from sklearn.metrics import accuracy_score, classification_report, confusion_matrix,ConfusionMatrixDisplay\n",
    "from scipy.stats import uniform, randint\n",
    "from sklearn import tree\n",
    "import plotly.express as px"
   ]
  },
  {
   "cell_type": "code",
   "execution_count": 28,
   "metadata": {},
   "outputs": [],
   "source": [
    "import warnings\n",
    "warnings.filterwarnings(\"ignore\")"
   ]
  },
  {
   "cell_type": "code",
   "execution_count": 29,
   "metadata": {},
   "outputs": [],
   "source": [
    "demos = pd.read_csv(r'synthetic_data\\demos.csv')\n",
    "dispositions = pd.read_csv(r'synthetic_data\\dispositions.csv')\n",
    "email_sends = pd.read_csv(r'synthetic_data\\email_sends.csv')"
   ]
  },
  {
   "cell_type": "code",
   "execution_count": 30,
   "metadata": {},
   "outputs": [],
   "source": [
    "dispositions.rename(columns = {'timets':'days_since_handraise'}, inplace = True)\n",
    "email_sends.rename(columns = {'timets':'days_since_email_engg'}, inplace = True)"
   ]
  },
  {
   "cell_type": "code",
   "execution_count": 31,
   "metadata": {},
   "outputs": [],
   "source": [
    "merged_df = demos.merge(dispositions, how='inner', on='id')"
   ]
  },
  {
   "cell_type": "code",
   "execution_count": 32,
   "metadata": {},
   "outputs": [],
   "source": [
    "received_email_engg = email_sends['id'].unique()\n",
    "opened_email_engg = email_sends[email_sends['opened'] == 1]['id'].unique()"
   ]
  },
  {
   "cell_type": "code",
   "execution_count": 33,
   "metadata": {},
   "outputs": [],
   "source": [
    "merged_df['received_email_engagement'] = merged_df['id'].apply(lambda x: 1 if x in received_email_engg else 0)\n",
    "merged_df['opened_email_engagement'] = merged_df['id'].apply(lambda x: 1 if x in opened_email_engg else 0)"
   ]
  },
  {
   "cell_type": "code",
   "execution_count": 34,
   "metadata": {},
   "outputs": [],
   "source": [
    "df = merged_df.copy()"
   ]
  },
  {
   "cell_type": "code",
   "execution_count": 35,
   "metadata": {},
   "outputs": [
    {
     "name": "stdout",
     "output_type": "stream",
     "text": [
      "<class 'pandas.core.frame.DataFrame'>\n",
      "RangeIndex: 500000 entries, 0 to 499999\n",
      "Data columns (total 20 columns):\n",
      " #   Column                     Non-Null Count   Dtype \n",
      "---  ------                     --------------   ----- \n",
      " 0   gender                     449979 non-null  object\n",
      " 1   education                  496589 non-null  object\n",
      " 2   income                     496726 non-null  object\n",
      " 3   residence_type             500000 non-null  object\n",
      " 4   children                   500000 non-null  object\n",
      " 5   marital_status             496714 non-null  object\n",
      " 6   numb_of_vehicles           500000 non-null  object\n",
      " 7   age                        496607 non-null  object\n",
      " 8   voi_type                   500000 non-null  object\n",
      " 9   job_industry               500000 non-null  object\n",
      " 10  fear_of_tech               500000 non-null  object\n",
      " 11  years_in_workforce         500000 non-null  object\n",
      " 12  driver_type                500000 non-null  object\n",
      " 13  type_of_spender            500000 non-null  object\n",
      " 14  brand_interest             500000 non-null  object\n",
      " 15  id                         500000 non-null  int64 \n",
      " 16  days_since_handraise       500000 non-null  int64 \n",
      " 17  y                          500000 non-null  int64 \n",
      " 18  received_email_engagement  500000 non-null  int64 \n",
      " 19  opened_email_engagement    500000 non-null  int64 \n",
      "dtypes: int64(5), object(15)\n",
      "memory usage: 76.3+ MB\n"
     ]
    }
   ],
   "source": [
    "df.info()"
   ]
  },
  {
   "cell_type": "code",
   "execution_count": 36,
   "metadata": {},
   "outputs": [],
   "source": [
    "# Define the mappings for ordinal encoding\n",
    "gender_mapping = ['Female', 'Male']\n",
    "edu_mapping = ['less than HS', 'High School', 'Junior College', 'Bachelors', \"Master's\", 'PhD']\n",
    "sal_mapping = ['< 20 k', '30K - 40K', '40K - 50K', '50K - 60K', \"70K - 80K\", '80K - 90K', '>100K']\n",
    "children_mapping = ['No Children', '1 Child', 'Two or more Children']\n",
    "age_mapping = ['<=18', '19 - 24', '25-30', '30-40', \"40-50\", '60+']\n",
    "no_veh_mapping = ['No vehicles', '1 Vehicle', '2 or more vehicles']\n",
    "yrs_mapping = ['0 - 1', '1 - 2', '2 - 3', '3 - 4', \"4 - 5\", '5+']\n",
    "brand_int_mapping = ['heard of the brand', 'purhcased from brand before', 'love the brand']\n",
    "\n",
    "# Create one-hot encoder and ordinal encoder\n",
    "ordinal_categories = [gender_mapping, edu_mapping, sal_mapping,age_mapping,children_mapping,no_veh_mapping, yrs_mapping,brand_int_mapping]\n",
    "\n",
    "si = SimpleImputer(strategy='most_frequent')\n",
    "\n",
    "columns_for_ordinal_encoding = ['gender', 'education', 'income', 'age', 'children', 'numb_of_vehicles', 'years_in_workforce', 'brand_interest']\n",
    "columns_for_one_hot_encoding = ['residence_type', 'marital_status', 'voi_type', 'job_industry', 'fear_of_tech', 'driver_type', 'type_of_spender']"
   ]
  },
  {
   "cell_type": "code",
   "execution_count": 37,
   "metadata": {},
   "outputs": [],
   "source": [
    "#creating pipeline for ordinal and nominal cat features \n",
    "\n",
    "cat_ordinal_transformer = make_pipeline(\n",
    "    SimpleImputer(strategy='most_frequent'),\n",
    "    OrdinalEncoder(categories=ordinal_categories)\n",
    "    )\n",
    "\n",
    "cat_nominal_transformer = make_pipeline(\n",
    "    SimpleImputer(strategy='most_frequent'),\n",
    "    OneHotEncoder(handle_unknown=\"ignore\")\n",
    "    )\n",
    "\n",
    "preprocessor = make_column_transformer(\n",
    "    (cat_ordinal_transformer, columns_for_ordinal_encoding),\n",
    "    (cat_nominal_transformer, columns_for_one_hot_encoding),\n",
    "    remainder='passthrough'\n",
    ")"
   ]
  },
  {
   "cell_type": "code",
   "execution_count": 38,
   "metadata": {},
   "outputs": [],
   "source": [
    "X = df.drop(['y'],axis=1)\n",
    "y = df['y']\n",
    "X_train, X_test, y_train, y_test = train_test_split(X, y, test_size=0.33, random_state=42,stratify=y)"
   ]
  },
  {
   "cell_type": "code",
   "execution_count": 39,
   "metadata": {},
   "outputs": [],
   "source": [
    "feature_selector = SelectKBest(mutual_info_classif, k=20)\n",
    "rfc = RandomForestClassifier(random_state=42)"
   ]
  },
  {
   "cell_type": "code",
   "execution_count": 40,
   "metadata": {},
   "outputs": [],
   "source": [
    "pipeline1 = make_pipeline(preprocessor,feature_selector,rfc)"
   ]
  },
  {
   "cell_type": "code",
   "execution_count": 65,
   "metadata": {},
   "outputs": [
    {
     "data": {
      "text/plain": [
       "0.6176626865671642"
      ]
     },
     "execution_count": 65,
     "metadata": {},
     "output_type": "execute_result"
    }
   ],
   "source": [
    "cross_val_score(pipeline1,X_train,y_train,cv=5,scoring='accuracy').mean()"
   ]
  },
  {
   "cell_type": "code",
   "execution_count": 81,
   "metadata": {},
   "outputs": [],
   "source": [
    "params = {\n",
    "    'randomforestclassifier__n_estimators': randint(100,1000),\n",
    "    'randomforestclassifier__max_depth': randint(10,100),\n",
    "    'randomforestclassifier__min_samples_split': randint(8,12),\n",
    "    'randomforestclassifier__min_samples_leaf': randint(3,8)\n",
    "}"
   ]
  },
  {
   "cell_type": "code",
   "execution_count": 58,
   "metadata": {},
   "outputs": [
    {
     "data": {
      "text/html": [
       "<style>#sk-container-id-5 {color: black;}#sk-container-id-5 pre{padding: 0;}#sk-container-id-5 div.sk-toggleable {background-color: white;}#sk-container-id-5 label.sk-toggleable__label {cursor: pointer;display: block;width: 100%;margin-bottom: 0;padding: 0.3em;box-sizing: border-box;text-align: center;}#sk-container-id-5 label.sk-toggleable__label-arrow:before {content: \"▸\";float: left;margin-right: 0.25em;color: #696969;}#sk-container-id-5 label.sk-toggleable__label-arrow:hover:before {color: black;}#sk-container-id-5 div.sk-estimator:hover label.sk-toggleable__label-arrow:before {color: black;}#sk-container-id-5 div.sk-toggleable__content {max-height: 0;max-width: 0;overflow: hidden;text-align: left;background-color: #f0f8ff;}#sk-container-id-5 div.sk-toggleable__content pre {margin: 0.2em;color: black;border-radius: 0.25em;background-color: #f0f8ff;}#sk-container-id-5 input.sk-toggleable__control:checked~div.sk-toggleable__content {max-height: 200px;max-width: 100%;overflow: auto;}#sk-container-id-5 input.sk-toggleable__control:checked~label.sk-toggleable__label-arrow:before {content: \"▾\";}#sk-container-id-5 div.sk-estimator input.sk-toggleable__control:checked~label.sk-toggleable__label {background-color: #d4ebff;}#sk-container-id-5 div.sk-label input.sk-toggleable__control:checked~label.sk-toggleable__label {background-color: #d4ebff;}#sk-container-id-5 input.sk-hidden--visually {border: 0;clip: rect(1px 1px 1px 1px);clip: rect(1px, 1px, 1px, 1px);height: 1px;margin: -1px;overflow: hidden;padding: 0;position: absolute;width: 1px;}#sk-container-id-5 div.sk-estimator {font-family: monospace;background-color: #f0f8ff;border: 1px dotted black;border-radius: 0.25em;box-sizing: border-box;margin-bottom: 0.5em;}#sk-container-id-5 div.sk-estimator:hover {background-color: #d4ebff;}#sk-container-id-5 div.sk-parallel-item::after {content: \"\";width: 100%;border-bottom: 1px solid gray;flex-grow: 1;}#sk-container-id-5 div.sk-label:hover label.sk-toggleable__label {background-color: #d4ebff;}#sk-container-id-5 div.sk-serial::before {content: \"\";position: absolute;border-left: 1px solid gray;box-sizing: border-box;top: 0;bottom: 0;left: 50%;z-index: 0;}#sk-container-id-5 div.sk-serial {display: flex;flex-direction: column;align-items: center;background-color: white;padding-right: 0.2em;padding-left: 0.2em;position: relative;}#sk-container-id-5 div.sk-item {position: relative;z-index: 1;}#sk-container-id-5 div.sk-parallel {display: flex;align-items: stretch;justify-content: center;background-color: white;position: relative;}#sk-container-id-5 div.sk-item::before, #sk-container-id-5 div.sk-parallel-item::before {content: \"\";position: absolute;border-left: 1px solid gray;box-sizing: border-box;top: 0;bottom: 0;left: 50%;z-index: -1;}#sk-container-id-5 div.sk-parallel-item {display: flex;flex-direction: column;z-index: 1;position: relative;background-color: white;}#sk-container-id-5 div.sk-parallel-item:first-child::after {align-self: flex-end;width: 50%;}#sk-container-id-5 div.sk-parallel-item:last-child::after {align-self: flex-start;width: 50%;}#sk-container-id-5 div.sk-parallel-item:only-child::after {width: 0;}#sk-container-id-5 div.sk-dashed-wrapped {border: 1px dashed gray;margin: 0 0.4em 0.5em 0.4em;box-sizing: border-box;padding-bottom: 0.4em;background-color: white;}#sk-container-id-5 div.sk-label label {font-family: monospace;font-weight: bold;display: inline-block;line-height: 1.2em;}#sk-container-id-5 div.sk-label-container {text-align: center;}#sk-container-id-5 div.sk-container {/* jupyter's `normalize.less` sets `[hidden] { display: none; }` but bootstrap.min.css set `[hidden] { display: none !important; }` so we also need the `!important` here to be able to override the default hidden behavior on the sphinx rendered scikit-learn.org. See: https://github.com/scikit-learn/scikit-learn/issues/21755 */display: inline-block !important;position: relative;}#sk-container-id-5 div.sk-text-repr-fallback {display: none;}</style><div id=\"sk-container-id-5\" class=\"sk-top-container\"><div class=\"sk-text-repr-fallback\"><pre>RandomizedSearchCV(cv=5,\n",
       "                   estimator=Pipeline(steps=[(&#x27;columntransformer&#x27;,\n",
       "                                              ColumnTransformer(remainder=&#x27;passthrough&#x27;,\n",
       "                                                                transformers=[(&#x27;pipeline-1&#x27;,\n",
       "                                                                               Pipeline(steps=[(&#x27;simpleimputer&#x27;,\n",
       "                                                                                                SimpleImputer(strategy=&#x27;most_frequent&#x27;)),\n",
       "                                                                                               (&#x27;ordinalencoder&#x27;,\n",
       "                                                                                                OrdinalEncoder(categories=[[&#x27;Female&#x27;,\n",
       "                                                                                                                            &#x27;Male&#x27;],\n",
       "                                                                                                                           [&#x27;less &#x27;\n",
       "                                                                                                                            &#x27;than &#x27;\n",
       "                                                                                                                            &#x27;HS&#x27;,\n",
       "                                                                                                                            &#x27;High &#x27;\n",
       "                                                                                                                            &#x27;School&#x27;,\n",
       "                                                                                                                            &#x27;Junior &#x27;\n",
       "                                                                                                                            &#x27;College&#x27;,\n",
       "                                                                                                                            &#x27;Bachelors&#x27;,\n",
       "                                                                                                                            &quot;Master&#x27;s...\n",
       "                                              RandomForestClassifier(max_depth=20,\n",
       "                                                                     min_samples_leaf=3,\n",
       "                                                                     min_samples_split=9,\n",
       "                                                                     random_state=42))]),\n",
       "                   param_distributions={&#x27;randomforestclassifier__max_depth&#x27;: [10,\n",
       "                                                                              50,\n",
       "                                                                              100],\n",
       "                                        &#x27;randomforestclassifier__min_samples_leaf&#x27;: [3,\n",
       "                                                                                     5,\n",
       "                                                                                     8],\n",
       "                                        &#x27;randomforestclassifier__min_samples_split&#x27;: [8,\n",
       "                                                                                      10,\n",
       "                                                                                      12],\n",
       "                                        &#x27;randomforestclassifier__n_estimators&#x27;: [100,\n",
       "                                                                                 500,\n",
       "                                                                                 1000]},\n",
       "                   random_state=42, scoring=&#x27;accuracy&#x27;)</pre><b>In a Jupyter environment, please rerun this cell to show the HTML representation or trust the notebook. <br />On GitHub, the HTML representation is unable to render, please try loading this page with nbviewer.org.</b></div><div class=\"sk-container\" hidden><div class=\"sk-item sk-dashed-wrapped\"><div class=\"sk-label-container\"><div class=\"sk-label sk-toggleable\"><input class=\"sk-toggleable__control sk-hidden--visually\" id=\"sk-estimator-id-43\" type=\"checkbox\" ><label for=\"sk-estimator-id-43\" class=\"sk-toggleable__label sk-toggleable__label-arrow\">RandomizedSearchCV</label><div class=\"sk-toggleable__content\"><pre>RandomizedSearchCV(cv=5,\n",
       "                   estimator=Pipeline(steps=[(&#x27;columntransformer&#x27;,\n",
       "                                              ColumnTransformer(remainder=&#x27;passthrough&#x27;,\n",
       "                                                                transformers=[(&#x27;pipeline-1&#x27;,\n",
       "                                                                               Pipeline(steps=[(&#x27;simpleimputer&#x27;,\n",
       "                                                                                                SimpleImputer(strategy=&#x27;most_frequent&#x27;)),\n",
       "                                                                                               (&#x27;ordinalencoder&#x27;,\n",
       "                                                                                                OrdinalEncoder(categories=[[&#x27;Female&#x27;,\n",
       "                                                                                                                            &#x27;Male&#x27;],\n",
       "                                                                                                                           [&#x27;less &#x27;\n",
       "                                                                                                                            &#x27;than &#x27;\n",
       "                                                                                                                            &#x27;HS&#x27;,\n",
       "                                                                                                                            &#x27;High &#x27;\n",
       "                                                                                                                            &#x27;School&#x27;,\n",
       "                                                                                                                            &#x27;Junior &#x27;\n",
       "                                                                                                                            &#x27;College&#x27;,\n",
       "                                                                                                                            &#x27;Bachelors&#x27;,\n",
       "                                                                                                                            &quot;Master&#x27;s...\n",
       "                                              RandomForestClassifier(max_depth=20,\n",
       "                                                                     min_samples_leaf=3,\n",
       "                                                                     min_samples_split=9,\n",
       "                                                                     random_state=42))]),\n",
       "                   param_distributions={&#x27;randomforestclassifier__max_depth&#x27;: [10,\n",
       "                                                                              50,\n",
       "                                                                              100],\n",
       "                                        &#x27;randomforestclassifier__min_samples_leaf&#x27;: [3,\n",
       "                                                                                     5,\n",
       "                                                                                     8],\n",
       "                                        &#x27;randomforestclassifier__min_samples_split&#x27;: [8,\n",
       "                                                                                      10,\n",
       "                                                                                      12],\n",
       "                                        &#x27;randomforestclassifier__n_estimators&#x27;: [100,\n",
       "                                                                                 500,\n",
       "                                                                                 1000]},\n",
       "                   random_state=42, scoring=&#x27;accuracy&#x27;)</pre></div></div></div><div class=\"sk-parallel\"><div class=\"sk-parallel-item\"><div class=\"sk-item\"><div class=\"sk-label-container\"><div class=\"sk-label sk-toggleable\"><input class=\"sk-toggleable__control sk-hidden--visually\" id=\"sk-estimator-id-44\" type=\"checkbox\" ><label for=\"sk-estimator-id-44\" class=\"sk-toggleable__label sk-toggleable__label-arrow\">estimator: Pipeline</label><div class=\"sk-toggleable__content\"><pre>Pipeline(steps=[(&#x27;columntransformer&#x27;,\n",
       "                 ColumnTransformer(remainder=&#x27;passthrough&#x27;,\n",
       "                                   transformers=[(&#x27;pipeline-1&#x27;,\n",
       "                                                  Pipeline(steps=[(&#x27;simpleimputer&#x27;,\n",
       "                                                                   SimpleImputer(strategy=&#x27;most_frequent&#x27;)),\n",
       "                                                                  (&#x27;ordinalencoder&#x27;,\n",
       "                                                                   OrdinalEncoder(categories=[[&#x27;Female&#x27;,\n",
       "                                                                                               &#x27;Male&#x27;],\n",
       "                                                                                              [&#x27;less &#x27;\n",
       "                                                                                               &#x27;than &#x27;\n",
       "                                                                                               &#x27;HS&#x27;,\n",
       "                                                                                               &#x27;High &#x27;\n",
       "                                                                                               &#x27;School&#x27;,\n",
       "                                                                                               &#x27;Junior &#x27;\n",
       "                                                                                               &#x27;College&#x27;,\n",
       "                                                                                               &#x27;Bachelors&#x27;,\n",
       "                                                                                               &quot;Master&#x27;s&quot;,\n",
       "                                                                                               &#x27;PhD&#x27;],\n",
       "                                                                                              [&#x27;&lt; &#x27;\n",
       "                                                                                               &#x27;20 &#x27;\n",
       "                                                                                               &#x27;k&#x27;,\n",
       "                                                                                               &#x27;30K &#x27;\n",
       "                                                                                               &#x27;- &#x27;\n",
       "                                                                                               &#x27;40K&#x27;...\n",
       "                                                                   OneHotEncoder(handle_unknown=&#x27;ignore&#x27;))]),\n",
       "                                                  [&#x27;residence_type&#x27;,\n",
       "                                                   &#x27;marital_status&#x27;, &#x27;voi_type&#x27;,\n",
       "                                                   &#x27;job_industry&#x27;,\n",
       "                                                   &#x27;fear_of_tech&#x27;,\n",
       "                                                   &#x27;driver_type&#x27;,\n",
       "                                                   &#x27;type_of_spender&#x27;])])),\n",
       "                (&#x27;selectkbest&#x27;,\n",
       "                 SelectKBest(k=20,\n",
       "                             score_func=&lt;function mutual_info_classif at 0x000001763C41DE40&gt;)),\n",
       "                (&#x27;randomforestclassifier&#x27;,\n",
       "                 RandomForestClassifier(max_depth=20, min_samples_leaf=3,\n",
       "                                        min_samples_split=9,\n",
       "                                        random_state=42))])</pre></div></div></div><div class=\"sk-serial\"><div class=\"sk-item\"><div class=\"sk-serial\"><div class=\"sk-item sk-dashed-wrapped\"><div class=\"sk-label-container\"><div class=\"sk-label sk-toggleable\"><input class=\"sk-toggleable__control sk-hidden--visually\" id=\"sk-estimator-id-45\" type=\"checkbox\" ><label for=\"sk-estimator-id-45\" class=\"sk-toggleable__label sk-toggleable__label-arrow\">columntransformer: ColumnTransformer</label><div class=\"sk-toggleable__content\"><pre>ColumnTransformer(remainder=&#x27;passthrough&#x27;,\n",
       "                  transformers=[(&#x27;pipeline-1&#x27;,\n",
       "                                 Pipeline(steps=[(&#x27;simpleimputer&#x27;,\n",
       "                                                  SimpleImputer(strategy=&#x27;most_frequent&#x27;)),\n",
       "                                                 (&#x27;ordinalencoder&#x27;,\n",
       "                                                  OrdinalEncoder(categories=[[&#x27;Female&#x27;,\n",
       "                                                                              &#x27;Male&#x27;],\n",
       "                                                                             [&#x27;less &#x27;\n",
       "                                                                              &#x27;than &#x27;\n",
       "                                                                              &#x27;HS&#x27;,\n",
       "                                                                              &#x27;High &#x27;\n",
       "                                                                              &#x27;School&#x27;,\n",
       "                                                                              &#x27;Junior &#x27;\n",
       "                                                                              &#x27;College&#x27;,\n",
       "                                                                              &#x27;Bachelors&#x27;,\n",
       "                                                                              &quot;Master&#x27;s&quot;,\n",
       "                                                                              &#x27;PhD&#x27;],\n",
       "                                                                             [&#x27;&lt; &#x27;\n",
       "                                                                              &#x27;20 &#x27;\n",
       "                                                                              &#x27;k&#x27;,\n",
       "                                                                              &#x27;30K &#x27;\n",
       "                                                                              &#x27;- &#x27;\n",
       "                                                                              &#x27;40K&#x27;,\n",
       "                                                                              &#x27;40K &#x27;\n",
       "                                                                              &#x27;- &#x27;\n",
       "                                                                              &#x27;50K&#x27;,\n",
       "                                                                              &#x27;50K &#x27;\n",
       "                                                                              &#x27;- &#x27;\n",
       "                                                                              &#x27;60K&#x27;,\n",
       "                                                                              &#x27;70K &#x27;\n",
       "                                                                              &#x27;- &#x27;...\n",
       "                                 [&#x27;gender&#x27;, &#x27;education&#x27;, &#x27;income&#x27;, &#x27;age&#x27;,\n",
       "                                  &#x27;children&#x27;, &#x27;numb_of_vehicles&#x27;,\n",
       "                                  &#x27;years_in_workforce&#x27;, &#x27;brand_interest&#x27;]),\n",
       "                                (&#x27;pipeline-2&#x27;,\n",
       "                                 Pipeline(steps=[(&#x27;simpleimputer&#x27;,\n",
       "                                                  SimpleImputer(strategy=&#x27;most_frequent&#x27;)),\n",
       "                                                 (&#x27;onehotencoder&#x27;,\n",
       "                                                  OneHotEncoder(handle_unknown=&#x27;ignore&#x27;))]),\n",
       "                                 [&#x27;residence_type&#x27;, &#x27;marital_status&#x27;,\n",
       "                                  &#x27;voi_type&#x27;, &#x27;job_industry&#x27;, &#x27;fear_of_tech&#x27;,\n",
       "                                  &#x27;driver_type&#x27;, &#x27;type_of_spender&#x27;])])</pre></div></div></div><div class=\"sk-parallel\"><div class=\"sk-parallel-item\"><div class=\"sk-item\"><div class=\"sk-label-container\"><div class=\"sk-label sk-toggleable\"><input class=\"sk-toggleable__control sk-hidden--visually\" id=\"sk-estimator-id-46\" type=\"checkbox\" ><label for=\"sk-estimator-id-46\" class=\"sk-toggleable__label sk-toggleable__label-arrow\">pipeline-1</label><div class=\"sk-toggleable__content\"><pre>[&#x27;gender&#x27;, &#x27;education&#x27;, &#x27;income&#x27;, &#x27;age&#x27;, &#x27;children&#x27;, &#x27;numb_of_vehicles&#x27;, &#x27;years_in_workforce&#x27;, &#x27;brand_interest&#x27;]</pre></div></div></div><div class=\"sk-serial\"><div class=\"sk-item\"><div class=\"sk-serial\"><div class=\"sk-item\"><div class=\"sk-estimator sk-toggleable\"><input class=\"sk-toggleable__control sk-hidden--visually\" id=\"sk-estimator-id-47\" type=\"checkbox\" ><label for=\"sk-estimator-id-47\" class=\"sk-toggleable__label sk-toggleable__label-arrow\">SimpleImputer</label><div class=\"sk-toggleable__content\"><pre>SimpleImputer(strategy=&#x27;most_frequent&#x27;)</pre></div></div></div><div class=\"sk-item\"><div class=\"sk-estimator sk-toggleable\"><input class=\"sk-toggleable__control sk-hidden--visually\" id=\"sk-estimator-id-48\" type=\"checkbox\" ><label for=\"sk-estimator-id-48\" class=\"sk-toggleable__label sk-toggleable__label-arrow\">OrdinalEncoder</label><div class=\"sk-toggleable__content\"><pre>OrdinalEncoder(categories=[[&#x27;Female&#x27;, &#x27;Male&#x27;],\n",
       "                           [&#x27;less than HS&#x27;, &#x27;High School&#x27;, &#x27;Junior College&#x27;,\n",
       "                            &#x27;Bachelors&#x27;, &quot;Master&#x27;s&quot;, &#x27;PhD&#x27;],\n",
       "                           [&#x27;&lt; 20 k&#x27;, &#x27;30K - 40K&#x27;, &#x27;40K - 50K&#x27;, &#x27;50K - 60K&#x27;,\n",
       "                            &#x27;70K - 80K&#x27;, &#x27;80K - 90K&#x27;, &#x27;&gt;100K&#x27;],\n",
       "                           [&#x27;&lt;=18&#x27;, &#x27;19 - 24&#x27;, &#x27;25-30&#x27;, &#x27;30-40&#x27;, &#x27;40-50&#x27;,\n",
       "                            &#x27;60+&#x27;],\n",
       "                           [&#x27;No Children&#x27;, &#x27;1 Child&#x27;, &#x27;Two or more Children&#x27;],\n",
       "                           [&#x27;No vehicles&#x27;, &#x27;1 Vehicle&#x27;, &#x27;2 or more vehicles&#x27;],\n",
       "                           [&#x27;0 - 1&#x27;, &#x27;1 - 2&#x27;, &#x27;2 - 3&#x27;, &#x27;3 - 4&#x27;, &#x27;4 - 5&#x27;, &#x27;5+&#x27;],\n",
       "                           [&#x27;heard of the brand&#x27;, &#x27;purhcased from brand before&#x27;,\n",
       "                            &#x27;love the brand&#x27;]])</pre></div></div></div></div></div></div></div></div><div class=\"sk-parallel-item\"><div class=\"sk-item\"><div class=\"sk-label-container\"><div class=\"sk-label sk-toggleable\"><input class=\"sk-toggleable__control sk-hidden--visually\" id=\"sk-estimator-id-49\" type=\"checkbox\" ><label for=\"sk-estimator-id-49\" class=\"sk-toggleable__label sk-toggleable__label-arrow\">pipeline-2</label><div class=\"sk-toggleable__content\"><pre>[&#x27;residence_type&#x27;, &#x27;marital_status&#x27;, &#x27;voi_type&#x27;, &#x27;job_industry&#x27;, &#x27;fear_of_tech&#x27;, &#x27;driver_type&#x27;, &#x27;type_of_spender&#x27;]</pre></div></div></div><div class=\"sk-serial\"><div class=\"sk-item\"><div class=\"sk-serial\"><div class=\"sk-item\"><div class=\"sk-estimator sk-toggleable\"><input class=\"sk-toggleable__control sk-hidden--visually\" id=\"sk-estimator-id-50\" type=\"checkbox\" ><label for=\"sk-estimator-id-50\" class=\"sk-toggleable__label sk-toggleable__label-arrow\">SimpleImputer</label><div class=\"sk-toggleable__content\"><pre>SimpleImputer(strategy=&#x27;most_frequent&#x27;)</pre></div></div></div><div class=\"sk-item\"><div class=\"sk-estimator sk-toggleable\"><input class=\"sk-toggleable__control sk-hidden--visually\" id=\"sk-estimator-id-51\" type=\"checkbox\" ><label for=\"sk-estimator-id-51\" class=\"sk-toggleable__label sk-toggleable__label-arrow\">OneHotEncoder</label><div class=\"sk-toggleable__content\"><pre>OneHotEncoder(handle_unknown=&#x27;ignore&#x27;)</pre></div></div></div></div></div></div></div></div><div class=\"sk-parallel-item\"><div class=\"sk-item\"><div class=\"sk-label-container\"><div class=\"sk-label sk-toggleable\"><input class=\"sk-toggleable__control sk-hidden--visually\" id=\"sk-estimator-id-52\" type=\"checkbox\" ><label for=\"sk-estimator-id-52\" class=\"sk-toggleable__label sk-toggleable__label-arrow\">remainder</label><div class=\"sk-toggleable__content\"><pre>[&#x27;id&#x27;, &#x27;days_since_handraise&#x27;, &#x27;received_email_engagement&#x27;, &#x27;opened_email_engagement&#x27;]</pre></div></div></div><div class=\"sk-serial\"><div class=\"sk-item\"><div class=\"sk-estimator sk-toggleable\"><input class=\"sk-toggleable__control sk-hidden--visually\" id=\"sk-estimator-id-53\" type=\"checkbox\" ><label for=\"sk-estimator-id-53\" class=\"sk-toggleable__label sk-toggleable__label-arrow\">passthrough</label><div class=\"sk-toggleable__content\"><pre>passthrough</pre></div></div></div></div></div></div></div></div><div class=\"sk-item\"><div class=\"sk-estimator sk-toggleable\"><input class=\"sk-toggleable__control sk-hidden--visually\" id=\"sk-estimator-id-54\" type=\"checkbox\" ><label for=\"sk-estimator-id-54\" class=\"sk-toggleable__label sk-toggleable__label-arrow\">SelectKBest</label><div class=\"sk-toggleable__content\"><pre>SelectKBest(k=20,\n",
       "            score_func=&lt;function mutual_info_classif at 0x000001763C41DE40&gt;)</pre></div></div></div><div class=\"sk-item\"><div class=\"sk-estimator sk-toggleable\"><input class=\"sk-toggleable__control sk-hidden--visually\" id=\"sk-estimator-id-55\" type=\"checkbox\" ><label for=\"sk-estimator-id-55\" class=\"sk-toggleable__label sk-toggleable__label-arrow\">RandomForestClassifier</label><div class=\"sk-toggleable__content\"><pre>RandomForestClassifier(max_depth=20, min_samples_leaf=3, min_samples_split=9,\n",
       "                       random_state=42)</pre></div></div></div></div></div></div></div></div></div></div></div></div>"
      ],
      "text/plain": [
       "RandomizedSearchCV(cv=5,\n",
       "                   estimator=Pipeline(steps=[('columntransformer',\n",
       "                                              ColumnTransformer(remainder='passthrough',\n",
       "                                                                transformers=[('pipeline-1',\n",
       "                                                                               Pipeline(steps=[('simpleimputer',\n",
       "                                                                                                SimpleImputer(strategy='most_frequent')),\n",
       "                                                                                               ('ordinalencoder',\n",
       "                                                                                                OrdinalEncoder(categories=[['Female',\n",
       "                                                                                                                            'Male'],\n",
       "                                                                                                                           ['less '\n",
       "                                                                                                                            'than '\n",
       "                                                                                                                            'HS',\n",
       "                                                                                                                            'High '\n",
       "                                                                                                                            'School',\n",
       "                                                                                                                            'Junior '\n",
       "                                                                                                                            'College',\n",
       "                                                                                                                            'Bachelors',\n",
       "                                                                                                                            \"Master's...\n",
       "                                              RandomForestClassifier(max_depth=20,\n",
       "                                                                     min_samples_leaf=3,\n",
       "                                                                     min_samples_split=9,\n",
       "                                                                     random_state=42))]),\n",
       "                   param_distributions={'randomforestclassifier__max_depth': [10,\n",
       "                                                                              50,\n",
       "                                                                              100],\n",
       "                                        'randomforestclassifier__min_samples_leaf': [3,\n",
       "                                                                                     5,\n",
       "                                                                                     8],\n",
       "                                        'randomforestclassifier__min_samples_split': [8,\n",
       "                                                                                      10,\n",
       "                                                                                      12],\n",
       "                                        'randomforestclassifier__n_estimators': [100,\n",
       "                                                                                 500,\n",
       "                                                                                 1000]},\n",
       "                   random_state=42, scoring='accuracy')"
      ]
     },
     "execution_count": 58,
     "metadata": {},
     "output_type": "execute_result"
    }
   ],
   "source": [
    "rfc_grid = RandomizedSearchCV(pipeline1,params,n_iter=10,cv=5,n_jobs=-1,scoring='accuracy',random_state=42)\n",
    "rfc_grid.fit(X_train,y_train)"
   ]
  },
  {
   "cell_type": "code",
   "execution_count": 59,
   "metadata": {},
   "outputs": [
    {
     "data": {
      "text/plain": [
       "0.622265671641791"
      ]
     },
     "execution_count": 59,
     "metadata": {},
     "output_type": "execute_result"
    }
   ],
   "source": [
    "rfc_grid.best_score_"
   ]
  },
  {
   "cell_type": "code",
   "execution_count": 60,
   "metadata": {},
   "outputs": [
    {
     "data": {
      "text/plain": [
       "{'randomforestclassifier__n_estimators': 500,\n",
       " 'randomforestclassifier__min_samples_split': 10,\n",
       " 'randomforestclassifier__min_samples_leaf': 8,\n",
       " 'randomforestclassifier__max_depth': 10}"
      ]
     },
     "execution_count": 60,
     "metadata": {},
     "output_type": "execute_result"
    }
   ],
   "source": [
    "rfc_grid.best_params_"
   ]
  },
  {
   "cell_type": "code",
   "execution_count": 61,
   "metadata": {},
   "outputs": [],
   "source": [
    "best_model = rfc_grid.best_estimator_\n",
    "y_pred = best_model.predict(X_test)"
   ]
  },
  {
   "cell_type": "code",
   "execution_count": 62,
   "metadata": {},
   "outputs": [
    {
     "data": {
      "text/plain": [
       "0.6223212121212122"
      ]
     },
     "execution_count": 62,
     "metadata": {},
     "output_type": "execute_result"
    }
   ],
   "source": [
    "accuracy_score(y_test,y_pred)"
   ]
  },
  {
   "cell_type": "code",
   "execution_count": 63,
   "metadata": {},
   "outputs": [
    {
     "name": "stdout",
     "output_type": "stream",
     "text": [
      "Classification Report:\n",
      "               precision    recall  f1-score   support\n",
      "\n",
      "           0       0.58      0.66      0.62     76808\n",
      "           1       0.66      0.59      0.63     88192\n",
      "\n",
      "    accuracy                           0.62    165000\n",
      "   macro avg       0.62      0.62      0.62    165000\n",
      "weighted avg       0.63      0.62      0.62    165000\n",
      "\n"
     ]
    }
   ],
   "source": [
    "print(\"Classification Report:\\n\", classification_report(y_test, y_pred))"
   ]
  },
  {
   "cell_type": "code",
   "execution_count": 64,
   "metadata": {},
   "outputs": [
    {
     "data": {
      "text/plain": [
       "<sklearn.metrics._plot.confusion_matrix.ConfusionMatrixDisplay at 0x1763c0c2ff0>"
      ]
     },
     "execution_count": 64,
     "metadata": {},
     "output_type": "execute_result"
    },
    {
     "data": {
      "image/png": "[encoded data removed]",
      "text/plain": [
       "<Figure size 640x480 with 2 Axes>"
      ]
     },
     "metadata": {},
     "output_type": "display_data"
    }
   ],
   "source": [
    "# Calculate the confusion matrix\n",
    "conf_matrix_rfc = confusion_matrix(y_test, y_pred)\n",
    "ConfusionMatrixDisplay(conf_matrix_rfc).plot()"
   ]
  },
  {
   "cell_type": "code",
   "execution_count": 66,
   "metadata": {},
   "outputs": [],
   "source": [
    "# Create the ColumnTransformer\n",
    "\n",
    "hgbc_preprocessing = make_column_transformer( \n",
    "        (OrdinalEncoder(categories=ordinal_categories,\n",
    "                        handle_unknown='use_encoded_value',\n",
    "                        unknown_value=np.nan),columns_for_ordinal_encoding),  # Ordinal encode specified columns\n",
    "        (OneHotEncoder(handle_unknown=\"ignore\"), columns_for_one_hot_encoding),  # One-hot encode specified columns\n",
    "    remainder='passthrough'  # Passthrough any other columns not specified above\n",
    ")"
   ]
  },
  {
   "cell_type": "code",
   "execution_count": 67,
   "metadata": {},
   "outputs": [],
   "source": [
    "hgbc = HistGradientBoostingClassifier(random_state=42)\n",
    "pipeline2 = make_pipeline(hgbc_preprocessing,hgbc)"
   ]
  },
  {
   "cell_type": "code",
   "execution_count": 68,
   "metadata": {},
   "outputs": [
    {
     "data": {
      "text/plain": [
       "0.6255731343283581"
      ]
     },
     "execution_count": 68,
     "metadata": {},
     "output_type": "execute_result"
    }
   ],
   "source": [
    "cross_val_score(pipeline2,X_train,y_train,cv=5,scoring='accuracy').mean()"
   ]
  },
  {
   "cell_type": "code",
   "execution_count": 91,
   "metadata": {},
   "outputs": [],
   "source": [
    "params_1 = {\n",
    "    'histgradientboostingclassifier__max_iter': randint(100, 1000),\n",
    "    'histgradientboostingclassifier__max_depth': randint(10, 100),\n",
    "    'histgradientboostingclassifier__max_leaf_nodes': [None, 30, 60, 90],\n",
    "    'histgradientboostingclassifier__min_samples_leaf': randint(3, 8)\n",
    "}"
   ]
  },
  {
   "cell_type": "code",
   "execution_count": 92,
   "metadata": {},
   "outputs": [
    {
     "data": {
      "text/html": [
       "<style>#sk-container-id-6 {color: black;}#sk-container-id-6 pre{padding: 0;}#sk-container-id-6 div.sk-toggleable {background-color: white;}#sk-container-id-6 label.sk-toggleable__label {cursor: pointer;display: block;width: 100%;margin-bottom: 0;padding: 0.3em;box-sizing: border-box;text-align: center;}#sk-container-id-6 label.sk-toggleable__label-arrow:before {content: \"▸\";float: left;margin-right: 0.25em;color: #696969;}#sk-container-id-6 label.sk-toggleable__label-arrow:hover:before {color: black;}#sk-container-id-6 div.sk-estimator:hover label.sk-toggleable__label-arrow:before {color: black;}#sk-container-id-6 div.sk-toggleable__content {max-height: 0;max-width: 0;overflow: hidden;text-align: left;background-color: #f0f8ff;}#sk-container-id-6 div.sk-toggleable__content pre {margin: 0.2em;color: black;border-radius: 0.25em;background-color: #f0f8ff;}#sk-container-id-6 input.sk-toggleable__control:checked~div.sk-toggleable__content {max-height: 200px;max-width: 100%;overflow: auto;}#sk-container-id-6 input.sk-toggleable__control:checked~label.sk-toggleable__label-arrow:before {content: \"▾\";}#sk-container-id-6 div.sk-estimator input.sk-toggleable__control:checked~label.sk-toggleable__label {background-color: #d4ebff;}#sk-container-id-6 div.sk-label input.sk-toggleable__control:checked~label.sk-toggleable__label {background-color: #d4ebff;}#sk-container-id-6 input.sk-hidden--visually {border: 0;clip: rect(1px 1px 1px 1px);clip: rect(1px, 1px, 1px, 1px);height: 1px;margin: -1px;overflow: hidden;padding: 0;position: absolute;width: 1px;}#sk-container-id-6 div.sk-estimator {font-family: monospace;background-color: #f0f8ff;border: 1px dotted black;border-radius: 0.25em;box-sizing: border-box;margin-bottom: 0.5em;}#sk-container-id-6 div.sk-estimator:hover {background-color: #d4ebff;}#sk-container-id-6 div.sk-parallel-item::after {content: \"\";width: 100%;border-bottom: 1px solid gray;flex-grow: 1;}#sk-container-id-6 div.sk-label:hover label.sk-toggleable__label {background-color: #d4ebff;}#sk-container-id-6 div.sk-serial::before {content: \"\";position: absolute;border-left: 1px solid gray;box-sizing: border-box;top: 0;bottom: 0;left: 50%;z-index: 0;}#sk-container-id-6 div.sk-serial {display: flex;flex-direction: column;align-items: center;background-color: white;padding-right: 0.2em;padding-left: 0.2em;position: relative;}#sk-container-id-6 div.sk-item {position: relative;z-index: 1;}#sk-container-id-6 div.sk-parallel {display: flex;align-items: stretch;justify-content: center;background-color: white;position: relative;}#sk-container-id-6 div.sk-item::before, #sk-container-id-6 div.sk-parallel-item::before {content: \"\";position: absolute;border-left: 1px solid gray;box-sizing: border-box;top: 0;bottom: 0;left: 50%;z-index: -1;}#sk-container-id-6 div.sk-parallel-item {display: flex;flex-direction: column;z-index: 1;position: relative;background-color: white;}#sk-container-id-6 div.sk-parallel-item:first-child::after {align-self: flex-end;width: 50%;}#sk-container-id-6 div.sk-parallel-item:last-child::after {align-self: flex-start;width: 50%;}#sk-container-id-6 div.sk-parallel-item:only-child::after {width: 0;}#sk-container-id-6 div.sk-dashed-wrapped {border: 1px dashed gray;margin: 0 0.4em 0.5em 0.4em;box-sizing: border-box;padding-bottom: 0.4em;background-color: white;}#sk-container-id-6 div.sk-label label {font-family: monospace;font-weight: bold;display: inline-block;line-height: 1.2em;}#sk-container-id-6 div.sk-label-container {text-align: center;}#sk-container-id-6 div.sk-container {/* jupyter's `normalize.less` sets `[hidden] { display: none; }` but bootstrap.min.css set `[hidden] { display: none !important; }` so we also need the `!important` here to be able to override the default hidden behavior on the sphinx rendered scikit-learn.org. See: https://github.com/scikit-learn/scikit-learn/issues/21755 */display: inline-block !important;position: relative;}#sk-container-id-6 div.sk-text-repr-fallback {display: none;}</style><div id=\"sk-container-id-6\" class=\"sk-top-container\"><div class=\"sk-text-repr-fallback\"><pre>RandomizedSearchCV(cv=5,\n",
       "                   estimator=Pipeline(steps=[(&#x27;columntransformer&#x27;,\n",
       "                                              ColumnTransformer(remainder=&#x27;passthrough&#x27;,\n",
       "                                                                transformers=[(&#x27;ordinalencoder&#x27;,\n",
       "                                                                               OrdinalEncoder(categories=[[&#x27;Female&#x27;,\n",
       "                                                                                                           &#x27;Male&#x27;],\n",
       "                                                                                                          [&#x27;less &#x27;\n",
       "                                                                                                           &#x27;than &#x27;\n",
       "                                                                                                           &#x27;HS&#x27;,\n",
       "                                                                                                           &#x27;High &#x27;\n",
       "                                                                                                           &#x27;School&#x27;,\n",
       "                                                                                                           &#x27;Junior &#x27;\n",
       "                                                                                                           &#x27;College&#x27;,\n",
       "                                                                                                           &#x27;Bachelors&#x27;,\n",
       "                                                                                                           &quot;Master&#x27;s&quot;,\n",
       "                                                                                                           &#x27;PhD&#x27;],\n",
       "                                                                                                          [&#x27;&lt; &#x27;\n",
       "                                                                                                           &#x27;20 &#x27;\n",
       "                                                                                                           &#x27;k&#x27;,\n",
       "                                                                                                           &#x27;30K &#x27;\n",
       "                                                                                                           &#x27;- &#x27;\n",
       "                                                                                                           &#x27;40K&#x27;,\n",
       "                                                                                                           &#x27;40K &#x27;\n",
       "                                                                                                           &#x27;- &#x27;\n",
       "                                                                                                           &#x27;50K&#x27;,\n",
       "                                                                                                           &#x27;50K &#x27;\n",
       "                                                                                                           &#x27;- &#x27;\n",
       "                                                                                                           &#x27;60K&#x27;,\n",
       "                                                                                                           &#x27;70K &#x27;\n",
       "                                                                                                           &#x27;- &#x27;\n",
       "                                                                                                           &#x27;80K&#x27;,\n",
       "                                                                                                           &#x27;80K &#x27;\n",
       "                                                                                                           &#x27;- &#x27;\n",
       "                                                                                                           &#x27;90...\n",
       "                                        &#x27;histgradientboostingclassifier__max_iter&#x27;: &lt;scipy.stats._distn_infrastructure.rv_discrete_frozen object at 0x000001760E2DEFF0&gt;,\n",
       "                                        &#x27;histgradientboostingclassifier__max_leaf_nodes&#x27;: [None,\n",
       "                                                                                           30,\n",
       "                                                                                           60,\n",
       "                                                                                           90],\n",
       "                                        &#x27;histgradientboostingclassifier__min_samples_leaf&#x27;: &lt;scipy.stats._distn_infrastructure.rv_discrete_frozen object at 0x000001760E2DECF0&gt;},\n",
       "                   random_state=42, scoring=&#x27;accuracy&#x27;)</pre><b>In a Jupyter environment, please rerun this cell to show the HTML representation or trust the notebook. <br />On GitHub, the HTML representation is unable to render, please try loading this page with nbviewer.org.</b></div><div class=\"sk-container\" hidden><div class=\"sk-item sk-dashed-wrapped\"><div class=\"sk-label-container\"><div class=\"sk-label sk-toggleable\"><input class=\"sk-toggleable__control sk-hidden--visually\" id=\"sk-estimator-id-56\" type=\"checkbox\" ><label for=\"sk-estimator-id-56\" class=\"sk-toggleable__label sk-toggleable__label-arrow\">RandomizedSearchCV</label><div class=\"sk-toggleable__content\"><pre>RandomizedSearchCV(cv=5,\n",
       "                   estimator=Pipeline(steps=[(&#x27;columntransformer&#x27;,\n",
       "                                              ColumnTransformer(remainder=&#x27;passthrough&#x27;,\n",
       "                                                                transformers=[(&#x27;ordinalencoder&#x27;,\n",
       "                                                                               OrdinalEncoder(categories=[[&#x27;Female&#x27;,\n",
       "                                                                                                           &#x27;Male&#x27;],\n",
       "                                                                                                          [&#x27;less &#x27;\n",
       "                                                                                                           &#x27;than &#x27;\n",
       "                                                                                                           &#x27;HS&#x27;,\n",
       "                                                                                                           &#x27;High &#x27;\n",
       "                                                                                                           &#x27;School&#x27;,\n",
       "                                                                                                           &#x27;Junior &#x27;\n",
       "                                                                                                           &#x27;College&#x27;,\n",
       "                                                                                                           &#x27;Bachelors&#x27;,\n",
       "                                                                                                           &quot;Master&#x27;s&quot;,\n",
       "                                                                                                           &#x27;PhD&#x27;],\n",
       "                                                                                                          [&#x27;&lt; &#x27;\n",
       "                                                                                                           &#x27;20 &#x27;\n",
       "                                                                                                           &#x27;k&#x27;,\n",
       "                                                                                                           &#x27;30K &#x27;\n",
       "                                                                                                           &#x27;- &#x27;\n",
       "                                                                                                           &#x27;40K&#x27;,\n",
       "                                                                                                           &#x27;40K &#x27;\n",
       "                                                                                                           &#x27;- &#x27;\n",
       "                                                                                                           &#x27;50K&#x27;,\n",
       "                                                                                                           &#x27;50K &#x27;\n",
       "                                                                                                           &#x27;- &#x27;\n",
       "                                                                                                           &#x27;60K&#x27;,\n",
       "                                                                                                           &#x27;70K &#x27;\n",
       "                                                                                                           &#x27;- &#x27;\n",
       "                                                                                                           &#x27;80K&#x27;,\n",
       "                                                                                                           &#x27;80K &#x27;\n",
       "                                                                                                           &#x27;- &#x27;\n",
       "                                                                                                           &#x27;90...\n",
       "                                        &#x27;histgradientboostingclassifier__max_iter&#x27;: &lt;scipy.stats._distn_infrastructure.rv_discrete_frozen object at 0x000001760E2DEFF0&gt;,\n",
       "                                        &#x27;histgradientboostingclassifier__max_leaf_nodes&#x27;: [None,\n",
       "                                                                                           30,\n",
       "                                                                                           60,\n",
       "                                                                                           90],\n",
       "                                        &#x27;histgradientboostingclassifier__min_samples_leaf&#x27;: &lt;scipy.stats._distn_infrastructure.rv_discrete_frozen object at 0x000001760E2DECF0&gt;},\n",
       "                   random_state=42, scoring=&#x27;accuracy&#x27;)</pre></div></div></div><div class=\"sk-parallel\"><div class=\"sk-parallel-item\"><div class=\"sk-item\"><div class=\"sk-label-container\"><div class=\"sk-label sk-toggleable\"><input class=\"sk-toggleable__control sk-hidden--visually\" id=\"sk-estimator-id-57\" type=\"checkbox\" ><label for=\"sk-estimator-id-57\" class=\"sk-toggleable__label sk-toggleable__label-arrow\">estimator: Pipeline</label><div class=\"sk-toggleable__content\"><pre>Pipeline(steps=[(&#x27;columntransformer&#x27;,\n",
       "                 ColumnTransformer(remainder=&#x27;passthrough&#x27;,\n",
       "                                   transformers=[(&#x27;ordinalencoder&#x27;,\n",
       "                                                  OrdinalEncoder(categories=[[&#x27;Female&#x27;,\n",
       "                                                                              &#x27;Male&#x27;],\n",
       "                                                                             [&#x27;less &#x27;\n",
       "                                                                              &#x27;than &#x27;\n",
       "                                                                              &#x27;HS&#x27;,\n",
       "                                                                              &#x27;High &#x27;\n",
       "                                                                              &#x27;School&#x27;,\n",
       "                                                                              &#x27;Junior &#x27;\n",
       "                                                                              &#x27;College&#x27;,\n",
       "                                                                              &#x27;Bachelors&#x27;,\n",
       "                                                                              &quot;Master&#x27;s&quot;,\n",
       "                                                                              &#x27;PhD&#x27;],\n",
       "                                                                             [&#x27;&lt; &#x27;\n",
       "                                                                              &#x27;20 &#x27;\n",
       "                                                                              &#x27;k&#x27;,\n",
       "                                                                              &#x27;30K &#x27;\n",
       "                                                                              &#x27;- &#x27;\n",
       "                                                                              &#x27;40K&#x27;,\n",
       "                                                                              &#x27;40K &#x27;\n",
       "                                                                              &#x27;- &#x27;\n",
       "                                                                              &#x27;50K&#x27;,\n",
       "                                                                              &#x27;50K &#x27;\n",
       "                                                                              &#x27;- &#x27;\n",
       "                                                                              &#x27;60K&#x27;,\n",
       "                                                                              &#x27;70K &#x27;\n",
       "                                                                              &#x27;- &#x27;\n",
       "                                                                              &#x27;80K&#x27;,\n",
       "                                                                              &#x27;80K &#x27;\n",
       "                                                                              &#x27;- &#x27;\n",
       "                                                                              &#x27;90K&#x27;,\n",
       "                                                                              &#x27;&gt;100K&#x27;],\n",
       "                                                                             [&#x27;&lt;=18&#x27;,\n",
       "                                                                              &#x27;19 &#x27;\n",
       "                                                                              &#x27;- &#x27;\n",
       "                                                                              &#x27;24&#x27;,\n",
       "                                                                              &#x27;2...\n",
       "                                                  [&#x27;gender&#x27;, &#x27;education&#x27;,\n",
       "                                                   &#x27;income&#x27;, &#x27;age&#x27;, &#x27;children&#x27;,\n",
       "                                                   &#x27;numb_of_vehicles&#x27;,\n",
       "                                                   &#x27;years_in_workforce&#x27;,\n",
       "                                                   &#x27;brand_interest&#x27;]),\n",
       "                                                 (&#x27;onehotencoder&#x27;,\n",
       "                                                  OneHotEncoder(handle_unknown=&#x27;ignore&#x27;),\n",
       "                                                  [&#x27;residence_type&#x27;,\n",
       "                                                   &#x27;marital_status&#x27;, &#x27;voi_type&#x27;,\n",
       "                                                   &#x27;job_industry&#x27;,\n",
       "                                                   &#x27;fear_of_tech&#x27;,\n",
       "                                                   &#x27;driver_type&#x27;,\n",
       "                                                   &#x27;type_of_spender&#x27;])])),\n",
       "                (&#x27;histgradientboostingclassifier&#x27;,\n",
       "                 HistGradientBoostingClassifier(random_state=42))])</pre></div></div></div><div class=\"sk-serial\"><div class=\"sk-item\"><div class=\"sk-serial\"><div class=\"sk-item sk-dashed-wrapped\"><div class=\"sk-label-container\"><div class=\"sk-label sk-toggleable\"><input class=\"sk-toggleable__control sk-hidden--visually\" id=\"sk-estimator-id-58\" type=\"checkbox\" ><label for=\"sk-estimator-id-58\" class=\"sk-toggleable__label sk-toggleable__label-arrow\">columntransformer: ColumnTransformer</label><div class=\"sk-toggleable__content\"><pre>ColumnTransformer(remainder=&#x27;passthrough&#x27;,\n",
       "                  transformers=[(&#x27;ordinalencoder&#x27;,\n",
       "                                 OrdinalEncoder(categories=[[&#x27;Female&#x27;, &#x27;Male&#x27;],\n",
       "                                                            [&#x27;less than HS&#x27;,\n",
       "                                                             &#x27;High School&#x27;,\n",
       "                                                             &#x27;Junior College&#x27;,\n",
       "                                                             &#x27;Bachelors&#x27;,\n",
       "                                                             &quot;Master&#x27;s&quot;,\n",
       "                                                             &#x27;PhD&#x27;],\n",
       "                                                            [&#x27;&lt; 20 k&#x27;,\n",
       "                                                             &#x27;30K - 40K&#x27;,\n",
       "                                                             &#x27;40K - 50K&#x27;,\n",
       "                                                             &#x27;50K - 60K&#x27;,\n",
       "                                                             &#x27;70K - 80K&#x27;,\n",
       "                                                             &#x27;80K - 90K&#x27;,\n",
       "                                                             &#x27;&gt;100K&#x27;],\n",
       "                                                            [&#x27;&lt;=18&#x27;, &#x27;19 - 24&#x27;,\n",
       "                                                             &#x27;25-30&#x27;, &#x27;30-40&#x27;,\n",
       "                                                             &#x27;40-50&#x27;, &#x27;60+&#x27;],\n",
       "                                                            [&#x27;No Children&#x27;,\n",
       "                                                             &#x27;1 Child&#x27;,\n",
       "                                                             &#x27;Two or more &#x27;\n",
       "                                                             &#x27;Children&#x27;...\n",
       "                                                             &#x27;brand before&#x27;,\n",
       "                                                             &#x27;love the brand&#x27;]],\n",
       "                                                handle_unknown=&#x27;use_encoded_value&#x27;,\n",
       "                                                unknown_value=nan),\n",
       "                                 [&#x27;gender&#x27;, &#x27;education&#x27;, &#x27;income&#x27;, &#x27;age&#x27;,\n",
       "                                  &#x27;children&#x27;, &#x27;numb_of_vehicles&#x27;,\n",
       "                                  &#x27;years_in_workforce&#x27;, &#x27;brand_interest&#x27;]),\n",
       "                                (&#x27;onehotencoder&#x27;,\n",
       "                                 OneHotEncoder(handle_unknown=&#x27;ignore&#x27;),\n",
       "                                 [&#x27;residence_type&#x27;, &#x27;marital_status&#x27;,\n",
       "                                  &#x27;voi_type&#x27;, &#x27;job_industry&#x27;, &#x27;fear_of_tech&#x27;,\n",
       "                                  &#x27;driver_type&#x27;, &#x27;type_of_spender&#x27;])])</pre></div></div></div><div class=\"sk-parallel\"><div class=\"sk-parallel-item\"><div class=\"sk-item\"><div class=\"sk-label-container\"><div class=\"sk-label sk-toggleable\"><input class=\"sk-toggleable__control sk-hidden--visually\" id=\"sk-estimator-id-59\" type=\"checkbox\" ><label for=\"sk-estimator-id-59\" class=\"sk-toggleable__label sk-toggleable__label-arrow\">ordinalencoder</label><div class=\"sk-toggleable__content\"><pre>[&#x27;gender&#x27;, &#x27;education&#x27;, &#x27;income&#x27;, &#x27;age&#x27;, &#x27;children&#x27;, &#x27;numb_of_vehicles&#x27;, &#x27;years_in_workforce&#x27;, &#x27;brand_interest&#x27;]</pre></div></div></div><div class=\"sk-serial\"><div class=\"sk-item\"><div class=\"sk-estimator sk-toggleable\"><input class=\"sk-toggleable__control sk-hidden--visually\" id=\"sk-estimator-id-60\" type=\"checkbox\" ><label for=\"sk-estimator-id-60\" class=\"sk-toggleable__label sk-toggleable__label-arrow\">OrdinalEncoder</label><div class=\"sk-toggleable__content\"><pre>OrdinalEncoder(categories=[[&#x27;Female&#x27;, &#x27;Male&#x27;],\n",
       "                           [&#x27;less than HS&#x27;, &#x27;High School&#x27;, &#x27;Junior College&#x27;,\n",
       "                            &#x27;Bachelors&#x27;, &quot;Master&#x27;s&quot;, &#x27;PhD&#x27;],\n",
       "                           [&#x27;&lt; 20 k&#x27;, &#x27;30K - 40K&#x27;, &#x27;40K - 50K&#x27;, &#x27;50K - 60K&#x27;,\n",
       "                            &#x27;70K - 80K&#x27;, &#x27;80K - 90K&#x27;, &#x27;&gt;100K&#x27;],\n",
       "                           [&#x27;&lt;=18&#x27;, &#x27;19 - 24&#x27;, &#x27;25-30&#x27;, &#x27;30-40&#x27;, &#x27;40-50&#x27;,\n",
       "                            &#x27;60+&#x27;],\n",
       "                           [&#x27;No Children&#x27;, &#x27;1 Child&#x27;, &#x27;Two or more Children&#x27;],\n",
       "                           [&#x27;No vehicles&#x27;, &#x27;1 Vehicle&#x27;, &#x27;2 or more vehicles&#x27;],\n",
       "                           [&#x27;0 - 1&#x27;, &#x27;1 - 2&#x27;, &#x27;2 - 3&#x27;, &#x27;3 - 4&#x27;, &#x27;4 - 5&#x27;, &#x27;5+&#x27;],\n",
       "                           [&#x27;heard of the brand&#x27;, &#x27;purhcased from brand before&#x27;,\n",
       "                            &#x27;love the brand&#x27;]],\n",
       "               handle_unknown=&#x27;use_encoded_value&#x27;, unknown_value=nan)</pre></div></div></div></div></div></div><div class=\"sk-parallel-item\"><div class=\"sk-item\"><div class=\"sk-label-container\"><div class=\"sk-label sk-toggleable\"><input class=\"sk-toggleable__control sk-hidden--visually\" id=\"sk-estimator-id-61\" type=\"checkbox\" ><label for=\"sk-estimator-id-61\" class=\"sk-toggleable__label sk-toggleable__label-arrow\">onehotencoder</label><div class=\"sk-toggleable__content\"><pre>[&#x27;residence_type&#x27;, &#x27;marital_status&#x27;, &#x27;voi_type&#x27;, &#x27;job_industry&#x27;, &#x27;fear_of_tech&#x27;, &#x27;driver_type&#x27;, &#x27;type_of_spender&#x27;]</pre></div></div></div><div class=\"sk-serial\"><div class=\"sk-item\"><div class=\"sk-estimator sk-toggleable\"><input class=\"sk-toggleable__control sk-hidden--visually\" id=\"sk-estimator-id-62\" type=\"checkbox\" ><label for=\"sk-estimator-id-62\" class=\"sk-toggleable__label sk-toggleable__label-arrow\">OneHotEncoder</label><div class=\"sk-toggleable__content\"><pre>OneHotEncoder(handle_unknown=&#x27;ignore&#x27;)</pre></div></div></div></div></div></div><div class=\"sk-parallel-item\"><div class=\"sk-item\"><div class=\"sk-label-container\"><div class=\"sk-label sk-toggleable\"><input class=\"sk-toggleable__control sk-hidden--visually\" id=\"sk-estimator-id-63\" type=\"checkbox\" ><label for=\"sk-estimator-id-63\" class=\"sk-toggleable__label sk-toggleable__label-arrow\">remainder</label><div class=\"sk-toggleable__content\"><pre></pre></div></div></div><div class=\"sk-serial\"><div class=\"sk-item\"><div class=\"sk-estimator sk-toggleable\"><input class=\"sk-toggleable__control sk-hidden--visually\" id=\"sk-estimator-id-64\" type=\"checkbox\" ><label for=\"sk-estimator-id-64\" class=\"sk-toggleable__label sk-toggleable__label-arrow\">passthrough</label><div class=\"sk-toggleable__content\"><pre>passthrough</pre></div></div></div></div></div></div></div></div><div class=\"sk-item\"><div class=\"sk-estimator sk-toggleable\"><input class=\"sk-toggleable__control sk-hidden--visually\" id=\"sk-estimator-id-65\" type=\"checkbox\" ><label for=\"sk-estimator-id-65\" class=\"sk-toggleable__label sk-toggleable__label-arrow\">HistGradientBoostingClassifier</label><div class=\"sk-toggleable__content\"><pre>HistGradientBoostingClassifier(random_state=42)</pre></div></div></div></div></div></div></div></div></div></div></div></div>"
      ],
      "text/plain": [
       "RandomizedSearchCV(cv=5,\n",
       "                   estimator=Pipeline(steps=[('columntransformer',\n",
       "                                              ColumnTransformer(remainder='passthrough',\n",
       "                                                                transformers=[('ordinalencoder',\n",
       "                                                                               OrdinalEncoder(categories=[['Female',\n",
       "                                                                                                           'Male'],\n",
       "                                                                                                          ['less '\n",
       "                                                                                                           'than '\n",
       "                                                                                                           'HS',\n",
       "                                                                                                           'High '\n",
       "                                                                                                           'School',\n",
       "                                                                                                           'Junior '\n",
       "                                                                                                           'College',\n",
       "                                                                                                           'Bachelors',\n",
       "                                                                                                           \"Master's\",\n",
       "                                                                                                           'PhD'],\n",
       "                                                                                                          ['< '\n",
       "                                                                                                           '20 '\n",
       "                                                                                                           'k',\n",
       "                                                                                                           '30K '\n",
       "                                                                                                           '- '\n",
       "                                                                                                           '40K',\n",
       "                                                                                                           '40K '\n",
       "                                                                                                           '- '\n",
       "                                                                                                           '50K',\n",
       "                                                                                                           '50K '\n",
       "                                                                                                           '- '\n",
       "                                                                                                           '60K',\n",
       "                                                                                                           '70K '\n",
       "                                                                                                           '- '\n",
       "                                                                                                           '80K',\n",
       "                                                                                                           '80K '\n",
       "                                                                                                           '- '\n",
       "                                                                                                           '90...\n",
       "                                        'histgradientboostingclassifier__max_iter': <scipy.stats._distn_infrastructure.rv_discrete_frozen object at 0x000001760E2DEFF0>,\n",
       "                                        'histgradientboostingclassifier__max_leaf_nodes': [None,\n",
       "                                                                                           30,\n",
       "                                                                                           60,\n",
       "                                                                                           90],\n",
       "                                        'histgradientboostingclassifier__min_samples_leaf': <scipy.stats._distn_infrastructure.rv_discrete_frozen object at 0x000001760E2DECF0>},\n",
       "                   random_state=42, scoring='accuracy')"
      ]
     },
     "execution_count": 92,
     "metadata": {},
     "output_type": "execute_result"
    }
   ],
   "source": [
    "hgbc_grid = RandomizedSearchCV(pipeline2,params_1,n_iter=10,cv=5,n_jobs=-1,scoring='accuracy',random_state=42)\n",
    "hgbc_grid.fit(X_train,y_train)"
   ]
  },
  {
   "cell_type": "code",
   "execution_count": 93,
   "metadata": {},
   "outputs": [
    {
     "data": {
      "text/plain": [
       "0.6254865671641792"
      ]
     },
     "execution_count": 93,
     "metadata": {},
     "output_type": "execute_result"
    }
   ],
   "source": [
    "hgbc_grid.best_score_"
   ]
  },
  {
   "cell_type": "code",
   "execution_count": 94,
   "metadata": {},
   "outputs": [
    {
     "data": {
      "text/plain": [
       "{'histgradientboostingclassifier__max_depth': 31,\n",
       " 'histgradientboostingclassifier__max_iter': 408,\n",
       " 'histgradientboostingclassifier__max_leaf_nodes': 30,\n",
       " 'histgradientboostingclassifier__min_samples_leaf': 6}"
      ]
     },
     "execution_count": 94,
     "metadata": {},
     "output_type": "execute_result"
    }
   ],
   "source": [
    "hgbc_grid.best_params_"
   ]
  },
  {
   "cell_type": "code",
   "execution_count": 96,
   "metadata": {},
   "outputs": [],
   "source": [
    "best_model = rfc_grid.best_estimator_\n",
    "hgbc_y_pred = best_model.predict(X_test)"
   ]
  },
  {
   "cell_type": "code",
   "execution_count": 97,
   "metadata": {},
   "outputs": [
    {
     "data": {
      "text/plain": [
       "0.6223212121212122"
      ]
     },
     "execution_count": 97,
     "metadata": {},
     "output_type": "execute_result"
    }
   ],
   "source": [
    "accuracy_score(y_test,hgbc_y_pred)"
   ]
  },
  {
   "cell_type": "code",
   "execution_count": 98,
   "metadata": {},
   "outputs": [
    {
     "name": "stdout",
     "output_type": "stream",
     "text": [
      "Classification Report:\n",
      "               precision    recall  f1-score   support\n",
      "\n",
      "           0       0.58      0.66      0.62     76808\n",
      "           1       0.66      0.59      0.63     88192\n",
      "\n",
      "    accuracy                           0.62    165000\n",
      "   macro avg       0.62      0.62      0.62    165000\n",
      "weighted avg       0.63      0.62      0.62    165000\n",
      "\n"
     ]
    }
   ],
   "source": [
    "print(\"Classification Report:\\n\", classification_report(y_test, hgbc_y_pred))"
   ]
  },
  {
   "cell_type": "code",
   "execution_count": 99,
   "metadata": {},
   "outputs": [
    {
     "data": {
      "text/plain": [
       "<sklearn.metrics._plot.confusion_matrix.ConfusionMatrixDisplay at 0x1760a899550>"
      ]
     },
     "execution_count": 99,
     "metadata": {},
     "output_type": "execute_result"
    },
    {
     "data": {
      "image/png": "[encoded data removed]",
      "text/plain": [
       "<Figure size 640x480 with 2 Axes>"
      ]
     },
     "metadata": {},
     "output_type": "display_data"
    }
   ],
   "source": [
    "# Calculate the confusion matrix\n",
    "conf_matrix_rfc = confusion_matrix(y_test, y_pred)\n",
    "ConfusionMatrixDisplay(conf_matrix_rfc).plot()"
   ]
  },
  {
   "cell_type": "code",
   "execution_count": null,
   "metadata": {},
   "outputs": [],
   "source": []
  }
 ],
 "metadata": {
  "kernelspec": {
   "display_name": "ML",
   "language": "python",
   "name": "python3"
  },
  "language_info": {
   "codemirror_mode": {
    "name": "ipython",
    "version": 3
   },
   "file_extension": ".py",
   "mimetype": "text/x-python",
   "name": "python",
   "nbconvert_exporter": "python",
   "pygments_lexer": "ipython3",
   "version": "3.12.1"
  }
 },
 "nbformat": 4,
 "nbformat_minor": 2
}
